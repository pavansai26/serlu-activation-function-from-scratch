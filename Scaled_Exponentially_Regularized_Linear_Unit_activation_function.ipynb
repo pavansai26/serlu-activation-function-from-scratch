{
  "nbformat": 4,
  "nbformat_minor": 0,
  "metadata": {
    "colab": {
      "name": "Scaled Exponentially-Regularized Linear Unit activation function.ipynb",
      "provenance": [],
      "private_outputs": true,
      "authorship_tag": "ABX9TyOP09OmJSbpIMeA3rcsqsxU",
      "include_colab_link": true
    },
    "kernelspec": {
      "name": "python3",
      "display_name": "Python 3"
    }
  },
  "cells": [
    {
      "cell_type": "markdown",
      "metadata": {
        "id": "view-in-github",
        "colab_type": "text"
      },
      "source": [
        "<a href=\"https://colab.research.google.com/github/pavansai26/serlu-activation-function-from-scratch/blob/master/Scaled_Exponentially_Regularized_Linear_Unit_activation_function.ipynb\" target=\"_parent\"><img src=\"https://colab.research.google.com/assets/colab-badge.svg\" alt=\"Open In Colab\"/></a>"
      ]
    },
    {
      "cell_type": "code",
      "metadata": {
        "id": "aHf1oPS8-qVO",
        "colab_type": "code",
        "colab": {}
      },
      "source": [
        "import numpy as np"
      ],
      "execution_count": null,
      "outputs": []
    },
    {
      "cell_type": "markdown",
      "metadata": {
        "id": "AwP1fZ-aMQP6",
        "colab_type": "text"
      },
      "source": [
        "## why we go for serlu"
      ]
    },
    {
      "cell_type": "markdown",
      "metadata": {
        "id": "qdrSzpyeMYcN",
        "colab_type": "text"
      },
      "source": [
        "# why we called serlu"
      ]
    },
    {
      "cell_type": "markdown",
      "metadata": {
        "id": "anT8zDR-MiCH",
        "colab_type": "text"
      },
      "source": [
        "# how serlu works"
      ]
    },
    {
      "cell_type": "markdown",
      "metadata": {
        "id": "hrVnQ8ahMuk6",
        "colab_type": "text"
      },
      "source": [
        "# how serlu is different than selu"
      ]
    },
    {
      "cell_type": "markdown",
      "metadata": {
        "id": "ECAxN5TCM4R6",
        "colab_type": "text"
      },
      "source": [
        "# advantages of serlu"
      ]
    },
    {
      "cell_type": "markdown",
      "metadata": {
        "id": "CCgEQsNcMYt3",
        "colab_type": "text"
      },
      "source": [
        ""
      ]
    },
    {
      "cell_type": "markdown",
      "metadata": {
        "id": "VRgOia8YMY24",
        "colab_type": "text"
      },
      "source": [
        ""
      ]
    },
    {
      "cell_type": "markdown",
      "metadata": {
        "id": "yZhvSAW-_bnk",
        "colab_type": "text"
      },
      "source": [
        "# **Scaled Exponentially-Regularized Linear Unit **"
      ]
    },
    {
      "cell_type": "markdown",
      "metadata": {
        "id": "4q7JibNbCoBR",
        "colab_type": "text"
      },
      "source": [
        "formula"
      ]
    },
    {
      "cell_type": "markdown",
      "metadata": {
        "id": "UryM2eZj-_II",
        "colab_type": "text"
      },
      "source": [
        "\n",
        "\n",
        "\n",
        "\n",
        "\n",
        "\n",
        "$$ \\text{SERLU}\\left(x\\right)) = \\lambda_{serlu}x \\text{ if } x \\geq 0 $$ $$ \\text{SERLU}\\left(x\\right)) = \\lambda_{serlu}\\alpha_{serlu}xe^{x} \\text{ if } x < 0 $$\n",
        "\n",
        "where the two parameters $\\lambda_{serlu} > 0$ and $\\alpha_{serlu} > 0$ remain to be specified.\n",
        "\n"
      ]
    },
    {
      "cell_type": "markdown",
      "metadata": {
        "id": "o66EKS8vCrFk",
        "colab_type": "text"
      },
      "source": [
        "implementation"
      ]
    },
    {
      "cell_type": "code",
      "metadata": {
        "id": "WJIsvrU5_Qrr",
        "colab_type": "code",
        "colab": {}
      },
      "source": [
        "def serlu(x, lambdaa=1.07862, alphaa=2.90427):\n",
        "\n",
        "  if x>=0:\n",
        "    return lambdaa*x\n",
        "  \n",
        "  else:\n",
        "    return lambdaa* alphaa*x*np.exp(x)\n"
      ],
      "execution_count": null,
      "outputs": []
    },
    {
      "cell_type": "markdown",
      "metadata": {
        "id": "1hYcBuX2Cwk4",
        "colab_type": "text"
      },
      "source": [
        "visualization"
      ]
    },
    {
      "cell_type": "code",
      "metadata": {
        "id": "UWgGtzhkA9fA",
        "colab_type": "code",
        "colab": {}
      },
      "source": [
        "from matplotlib import pyplot\n",
        "\n",
        "#Scaled Exponentially-Regularized Linear Unit\n",
        "def serlu(x, lambdaa=1.07862, alphaa=2.90427):\n",
        "\n",
        "  if x>=0:\n",
        "    return lambdaa*x\n",
        "  \n",
        "  else:\n",
        "    return lambdaa* alphaa*x*np.exp(x)\n",
        "\n",
        "# define a series of inputs\n",
        "series_in = [x for x in range(-10, 11)]\n",
        "# calculate outputs for our inputs\n",
        "series_out = [serlu(x, lambdaa=1.07862, alphaa=2.90427) for x in series_in]\n",
        "# line plot of raw inputs to rectified outputs\n",
        "pyplot.plot(series_in, series_out)\n",
        "pyplot.show()\n"
      ],
      "execution_count": null,
      "outputs": []
    },
    {
      "cell_type": "code",
      "metadata": {
        "id": "1H5s-fY0BqVc",
        "colab_type": "code",
        "colab": {}
      },
      "source": [
        "from matplotlib import pyplot\n",
        "\n",
        "#Scaled Exponentially-Regularized Linear Unit\n",
        "def serlu(x, lambdaa=5, alphaa=7):\n",
        "\n",
        "  if x>=0:\n",
        "    return lambdaa*x\n",
        "  \n",
        "  else:\n",
        "    return lambdaa* alphaa*x*np.exp(x)\n",
        "\n",
        "# define a series of inputs\n",
        "series_in = [x for x in range(-10, 11)]\n",
        "# calculate outputs for our inputs\n",
        "series_out = [serlu(x, lambdaa=5, alphaa=7) for x in series_in]\n",
        "# line plot of raw inputs to rectified outputs\n",
        "pyplot.plot(series_in, series_out)\n",
        "pyplot.show()\n"
      ],
      "execution_count": null,
      "outputs": []
    },
    {
      "cell_type": "code",
      "metadata": {
        "id": "C2L2CenbCaQi",
        "colab_type": "code",
        "colab": {}
      },
      "source": [
        ""
      ],
      "execution_count": null,
      "outputs": []
    }
  ]
}